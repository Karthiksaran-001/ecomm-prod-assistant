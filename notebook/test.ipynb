{
 "cells": [
  {
   "cell_type": "code",
   "execution_count": 1,
   "id": "39baf92d",
   "metadata": {},
   "outputs": [
    {
     "name": "stdout",
     "output_type": "stream",
     "text": [
      "Test OK\n"
     ]
    }
   ],
   "source": [
    "print(\"Test OK\")"
   ]
  },
  {
   "cell_type": "code",
   "execution_count": null,
   "id": "d284f61e",
   "metadata": {},
   "outputs": [],
   "source": [
    "from dotenv import load_dotenv\n",
    "load_dotenv()"
   ]
  },
  {
   "cell_type": "code",
   "execution_count": 4,
   "id": "65fad895",
   "metadata": {},
   "outputs": [],
   "source": [
    "from astrapy import DataAPIClient\n",
    "from astrapy.constants import VectorMetric\n",
    "from astrapy.ids import UUID\n",
    "from astrapy.info import CollectionDefinition\n",
    "import os"
   ]
  },
  {
   "cell_type": "code",
   "execution_count": 5,
   "id": "d4440c8d",
   "metadata": {},
   "outputs": [],
   "source": [
    "my_client = DataAPIClient()\n",
    "my_database = my_client.get_database(\n",
    "    os.getenv(\"ASTRA_DB_API_ENDPOINT\"),\n",
    "    token=os.getenv(\"ASTRA_DB_APPLICATION_TOKEN\") ,\n",
    ")"
   ]
  },
  {
   "cell_type": "code",
   "execution_count": 6,
   "id": "fe6e86a4",
   "metadata": {},
   "outputs": [],
   "source": [
    "my_collection = my_database.create_collection(\n",
    "    \"dreams_collection\",\n",
    "    definition=(\n",
    "        CollectionDefinition.builder()\n",
    "        .set_vector_dimension(3)\n",
    "        .set_vector_metric(VectorMetric.COSINE)\n",
    "        .build()\n",
    "    )\n",
    ")"
   ]
  },
  {
   "cell_type": "code",
   "execution_count": 7,
   "id": "bd1c1c3c",
   "metadata": {},
   "outputs": [
    {
     "data": {
      "text/plain": [
       "Collection(name=\"dreams_collection\", keyspace=\"default_keyspace\", database.api_endpoint=\"https://bb47831f-69b3-4a71-81f4-100d95e14494-us-east-2.apps.astra.datastax.com\", api_options=FullAPIOptions(token=StaticTokenProvider(AstraCS:nxjp...), ...))"
      ]
     },
     "execution_count": 7,
     "metadata": {},
     "output_type": "execute_result"
    }
   ],
   "source": [
    "my_collection"
   ]
  }
 ],
 "metadata": {
  "kernelspec": {
   "display_name": "venv",
   "language": "python",
   "name": "python3"
  },
  "language_info": {
   "codemirror_mode": {
    "name": "ipython",
    "version": 3
   },
   "file_extension": ".py",
   "mimetype": "text/x-python",
   "name": "python",
   "nbconvert_exporter": "python",
   "pygments_lexer": "ipython3",
   "version": "3.11.13"
  }
 },
 "nbformat": 4,
 "nbformat_minor": 5
}
