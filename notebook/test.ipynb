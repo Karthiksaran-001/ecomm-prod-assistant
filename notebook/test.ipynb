{
 "cells": [
  {
   "cell_type": "code",
   "execution_count": 1,
   "id": "39baf92d",
   "metadata": {},
   "outputs": [
    {
     "name": "stdout",
     "output_type": "stream",
     "text": [
      "Test OK\n"
     ]
    }
   ],
   "source": [
    "print(\"Test OK\")"
   ]
  },
  {
   "cell_type": "code",
   "execution_count": 1,
   "id": "d284f61e",
   "metadata": {},
   "outputs": [
    {
     "data": {
      "text/plain": [
       "True"
      ]
     },
     "execution_count": 1,
     "metadata": {},
     "output_type": "execute_result"
    }
   ],
   "source": [
    "from dotenv import load_dotenv\n",
    "load_dotenv()"
   ]
  },
  {
   "cell_type": "code",
   "execution_count": 4,
   "id": "65fad895",
   "metadata": {},
   "outputs": [],
   "source": [
    "from astrapy import DataAPIClient\n",
    "from astrapy.constants import VectorMetric\n",
    "from astrapy.ids import UUID\n",
    "from astrapy.info import CollectionDefinition\n",
    "import os"
   ]
  },
  {
   "cell_type": "code",
   "execution_count": 5,
   "id": "d4440c8d",
   "metadata": {},
   "outputs": [],
   "source": [
    "my_client = DataAPIClient()\n",
    "my_database = my_client.get_database(\n",
    "    os.getenv(\"ASTRA_DB_API_ENDPOINT\"),\n",
    "    token=os.getenv(\"ASTRA_DB_APPLICATION_TOKEN\") ,\n",
    ")"
   ]
  },
  {
   "cell_type": "code",
   "execution_count": 6,
   "id": "fe6e86a4",
   "metadata": {},
   "outputs": [],
   "source": [
    "my_collection = my_database.create_collection(\n",
    "    \"dreams_collection\",\n",
    "    definition=(\n",
    "        CollectionDefinition.builder()\n",
    "        .set_vector_dimension(3)\n",
    "        .set_vector_metric(VectorMetric.COSINE)\n",
    "        .build()\n",
    "    )\n",
    ")"
   ]
  },
  {
   "cell_type": "code",
   "execution_count": 7,
   "id": "bd1c1c3c",
   "metadata": {},
   "outputs": [
    {
     "data": {
      "text/plain": [
       "Collection(name=\"dreams_collection\", keyspace=\"default_keyspace\", database.api_endpoint=\"https://bb47831f-69b3-4a71-81f4-100d95e14494-us-east-2.apps.astra.datastax.com\", api_options=FullAPIOptions(token=StaticTokenProvider(AstraCS:nxjp...), ...))"
      ]
     },
     "execution_count": 7,
     "metadata": {},
     "output_type": "execute_result"
    }
   ],
   "source": [
    "my_collection"
   ]
  },
  {
   "cell_type": "code",
   "execution_count": 13,
   "id": "a5cd8768",
   "metadata": {},
   "outputs": [],
   "source": [
    "b64 = {\"$binary\":\"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\"}\n",
    "import base64\n",
    "import numpy as np\n",
    "decoded = base64.b64decode(b64[\"$binary\"])\n",
    "vector = np.frombuffer(decoded , dtype= np.float32)\n",
    "embedding = vector.tolist()"
   ]
  },
  {
   "cell_type": "code",
   "execution_count": 14,
   "id": "0e8f5fe2",
   "metadata": {},
   "outputs": [
    {
     "data": {
      "text/plain": [
       "768"
      ]
     },
     "execution_count": 14,
     "metadata": {},
     "output_type": "execute_result"
    }
   ],
   "source": [
    "len(embedding)"
   ]
  },
  {
   "cell_type": "code",
   "execution_count": 17,
   "id": "9494528e",
   "metadata": {},
   "outputs": [
    {
     "data": {
      "text/plain": [
       "<langchain_community.document_loaders.csv_loader.CSVLoader at 0x1b08727c110>"
      ]
     },
     "execution_count": 17,
     "metadata": {},
     "output_type": "execute_result"
    }
   ],
   "source": [
    "from langchain_community.document_loaders import CSVLoader\n",
    "loader = CSVLoader(\n",
    "    file_path= r\"../data\\product_reviews.csv\", csv_args= {\n",
    "        \"delimiter\" : ',',\n",
    "        \"fieldnames\" : ['product_id','product_title','rating','total_reviews','price','top_reviews']     \n",
    "        } , encoding= \"utf-8\")\n",
    "loader"
   ]
  },
  {
   "cell_type": "code",
   "execution_count": 21,
   "id": "984b1c30",
   "metadata": {},
   "outputs": [
    {
     "name": "stdout",
     "output_type": "stream",
     "text": [
      "page_content='product_id: itm6ac6485515ae4\n",
      "product_title: Apple iPhone 15 (Black, 128 GB)\n",
      "rating: 4.6\n",
      "total_reviews: 9,422\n",
      "price: ₹59,999\n",
      "top_reviews: 5 Worth every penny Just go for it.Amazing one.Beautiful camera with super fast processor READ MORE bijaya mohanty Certified Buyer , Baleshwar May, 2024 4457 1103 Permalink Report Abuse || 5 Worth every penny Awesome photography experience. Battery backup is good . Display is much better than 14 version. READ MORE Flipkart Customer Certified Buyer , Aizawl Jan, 2024 1496 355 Permalink Report Abuse' metadata={'source': '../data\\\\product_reviews.csv', 'row': 1}\n"
     ]
    }
   ],
   "source": [
    "print(loader.load()[1])"
   ]
  },
  {
   "cell_type": "code",
   "execution_count": 24,
   "id": "81395531",
   "metadata": {},
   "outputs": [
    {
     "ename": "TypeError",
     "evalue": "'WindowsPath' object is not subscriptable",
     "output_type": "error",
     "traceback": [
      "\u001b[31m---------------------------------------------------------------------------\u001b[39m",
      "\u001b[31mTypeError\u001b[39m                                 Traceback (most recent call last)",
      "\u001b[36mCell\u001b[39m\u001b[36m \u001b[39m\u001b[32mIn[24]\u001b[39m\u001b[32m, line 2\u001b[39m\n\u001b[32m      1\u001b[39m \u001b[38;5;28;01mfrom\u001b[39;00m\u001b[38;5;250m \u001b[39m\u001b[34;01mpathlib\u001b[39;00m\u001b[38;5;250m \u001b[39m\u001b[38;5;28;01mimport\u001b[39;00m Path\n\u001b[32m----> \u001b[39m\u001b[32m2\u001b[39m \u001b[43mPath\u001b[49m\u001b[43m(\u001b[49m\u001b[34;43m__name__\u001b[39;49m\u001b[43m)\u001b[49m\u001b[43m.\u001b[49m\u001b[43mresolve\u001b[49m\u001b[43m(\u001b[49m\u001b[43m)\u001b[49m\u001b[43m.\u001b[49m\u001b[43mparent\u001b[49m\u001b[43m[\u001b[49m\u001b[32;43m2\u001b[39;49m\u001b[43m]\u001b[49m\n",
      "\u001b[31mTypeError\u001b[39m: 'WindowsPath' object is not subscriptable"
     ]
    }
   ],
   "source": [
    "from pathlib import Path\n",
    "Path(__name__).resolve().parent[2]"
   ]
  },
  {
   "cell_type": "code",
   "execution_count": null,
   "id": "1556709c",
   "metadata": {},
   "outputs": [],
   "source": []
  }
 ],
 "metadata": {
  "kernelspec": {
   "display_name": "venv",
   "language": "python",
   "name": "python3"
  },
  "language_info": {
   "codemirror_mode": {
    "name": "ipython",
    "version": 3
   },
   "file_extension": ".py",
   "mimetype": "text/x-python",
   "name": "python",
   "nbconvert_exporter": "python",
   "pygments_lexer": "ipython3",
   "version": "3.11.13"
  }
 },
 "nbformat": 4,
 "nbformat_minor": 5
}
